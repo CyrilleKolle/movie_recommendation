{
 "cells": [
  {
   "cell_type": "code",
   "execution_count": 97,
   "metadata": {},
   "outputs": [],
   "source": [
    "import pandas as pd\n",
    "from scipy.sparse import csr_matrix\n",
    "from sklearn.neighbors import NearestNeighbors\n",
    "from fuzzywuzzy import process\n",
    "import seaborn as sns\n",
    "import matplotlib.pyplot as plt\n",
    "import plotly_express as px\n",
    "import re"
   ]
  },
  {
   "attachments": {},
   "cell_type": "markdown",
   "metadata": {},
   "source": [
    "- Some of the code in this file have been explained in the Explorative analyis file\n",
    "\n",
    "- I will will explain where i a new piece of code and how i came to any conclusions"
   ]
  },
  {
   "cell_type": "code",
   "execution_count": 98,
   "metadata": {},
   "outputs": [],
   "source": [
    "movies, ratings = pd.read_csv('../data/movies.csv'), pd.read_csv('../data/ratings.csv')\n"
   ]
  },
  {
   "cell_type": "code",
   "execution_count": 99,
   "metadata": {},
   "outputs": [
    {
     "data": {
      "text/html": [
       "<div>\n",
       "<style scoped>\n",
       "    .dataframe tbody tr th:only-of-type {\n",
       "        vertical-align: middle;\n",
       "    }\n",
       "\n",
       "    .dataframe tbody tr th {\n",
       "        vertical-align: top;\n",
       "    }\n",
       "\n",
       "    .dataframe thead th {\n",
       "        text-align: right;\n",
       "    }\n",
       "</style>\n",
       "<table border=\"1\" class=\"dataframe\">\n",
       "  <thead>\n",
       "    <tr style=\"text-align: right;\">\n",
       "      <th></th>\n",
       "      <th>movieId</th>\n",
       "      <th>title</th>\n",
       "      <th>genres</th>\n",
       "    </tr>\n",
       "  </thead>\n",
       "  <tbody>\n",
       "    <tr>\n",
       "      <th>0</th>\n",
       "      <td>1</td>\n",
       "      <td>Toy Story (1995)</td>\n",
       "      <td>Adventure|Animation|Children|Comedy|Fantasy</td>\n",
       "    </tr>\n",
       "    <tr>\n",
       "      <th>1</th>\n",
       "      <td>2</td>\n",
       "      <td>Jumanji (1995)</td>\n",
       "      <td>Adventure|Children|Fantasy</td>\n",
       "    </tr>\n",
       "    <tr>\n",
       "      <th>2</th>\n",
       "      <td>3</td>\n",
       "      <td>Grumpier Old Men (1995)</td>\n",
       "      <td>Comedy|Romance</td>\n",
       "    </tr>\n",
       "    <tr>\n",
       "      <th>3</th>\n",
       "      <td>4</td>\n",
       "      <td>Waiting to Exhale (1995)</td>\n",
       "      <td>Comedy|Drama|Romance</td>\n",
       "    </tr>\n",
       "    <tr>\n",
       "      <th>4</th>\n",
       "      <td>5</td>\n",
       "      <td>Father of the Bride Part II (1995)</td>\n",
       "      <td>Comedy</td>\n",
       "    </tr>\n",
       "  </tbody>\n",
       "</table>\n",
       "</div>"
      ],
      "text/plain": [
       "   movieId                               title  \\\n",
       "0        1                    Toy Story (1995)   \n",
       "1        2                      Jumanji (1995)   \n",
       "2        3             Grumpier Old Men (1995)   \n",
       "3        4            Waiting to Exhale (1995)   \n",
       "4        5  Father of the Bride Part II (1995)   \n",
       "\n",
       "                                        genres  \n",
       "0  Adventure|Animation|Children|Comedy|Fantasy  \n",
       "1                   Adventure|Children|Fantasy  \n",
       "2                               Comedy|Romance  \n",
       "3                         Comedy|Drama|Romance  \n",
       "4                                       Comedy  "
      ]
     },
     "execution_count": 99,
     "metadata": {},
     "output_type": "execute_result"
    }
   ],
   "source": [
    "movies.head()"
   ]
  },
  {
   "cell_type": "code",
   "execution_count": 100,
   "metadata": {},
   "outputs": [
    {
     "data": {
      "text/html": [
       "<div>\n",
       "<style scoped>\n",
       "    .dataframe tbody tr th:only-of-type {\n",
       "        vertical-align: middle;\n",
       "    }\n",
       "\n",
       "    .dataframe tbody tr th {\n",
       "        vertical-align: top;\n",
       "    }\n",
       "\n",
       "    .dataframe thead th {\n",
       "        text-align: right;\n",
       "    }\n",
       "</style>\n",
       "<table border=\"1\" class=\"dataframe\">\n",
       "  <thead>\n",
       "    <tr style=\"text-align: right;\">\n",
       "      <th></th>\n",
       "      <th>movieId</th>\n",
       "      <th>title</th>\n",
       "      <th>genres</th>\n",
       "      <th>year</th>\n",
       "    </tr>\n",
       "  </thead>\n",
       "  <tbody>\n",
       "    <tr>\n",
       "      <th>0</th>\n",
       "      <td>1</td>\n",
       "      <td>Toy Story (1995)</td>\n",
       "      <td>Adventure|Animation|Children|Comedy|Fantasy</td>\n",
       "      <td>1995</td>\n",
       "    </tr>\n",
       "    <tr>\n",
       "      <th>1</th>\n",
       "      <td>2</td>\n",
       "      <td>Jumanji (1995)</td>\n",
       "      <td>Adventure|Children|Fantasy</td>\n",
       "      <td>1995</td>\n",
       "    </tr>\n",
       "    <tr>\n",
       "      <th>2</th>\n",
       "      <td>3</td>\n",
       "      <td>Grumpier Old Men (1995)</td>\n",
       "      <td>Comedy|Romance</td>\n",
       "      <td>1995</td>\n",
       "    </tr>\n",
       "    <tr>\n",
       "      <th>3</th>\n",
       "      <td>4</td>\n",
       "      <td>Waiting to Exhale (1995)</td>\n",
       "      <td>Comedy|Drama|Romance</td>\n",
       "      <td>1995</td>\n",
       "    </tr>\n",
       "    <tr>\n",
       "      <th>4</th>\n",
       "      <td>5</td>\n",
       "      <td>Father of the Bride Part II (1995)</td>\n",
       "      <td>Comedy</td>\n",
       "      <td>1995</td>\n",
       "    </tr>\n",
       "  </tbody>\n",
       "</table>\n",
       "</div>"
      ],
      "text/plain": [
       "   movieId                               title  \\\n",
       "0        1                    Toy Story (1995)   \n",
       "1        2                      Jumanji (1995)   \n",
       "2        3             Grumpier Old Men (1995)   \n",
       "3        4            Waiting to Exhale (1995)   \n",
       "4        5  Father of the Bride Part II (1995)   \n",
       "\n",
       "                                        genres  year  \n",
       "0  Adventure|Animation|Children|Comedy|Fantasy  1995  \n",
       "1                   Adventure|Children|Fantasy  1995  \n",
       "2                               Comedy|Romance  1995  \n",
       "3                         Comedy|Drama|Romance  1995  \n",
       "4                                       Comedy  1995  "
      ]
     },
     "execution_count": 100,
     "metadata": {},
     "output_type": "execute_result"
    }
   ],
   "source": [
    "movies['year']  = movies['title'].str.extract(r'\\((\\d{4})\\)')\n",
    "\n",
    "movies.head()"
   ]
  },
  {
   "cell_type": "code",
   "execution_count": 101,
   "metadata": {},
   "outputs": [
    {
     "data": {
      "text/html": [
       "<div>\n",
       "<style scoped>\n",
       "    .dataframe tbody tr th:only-of-type {\n",
       "        vertical-align: middle;\n",
       "    }\n",
       "\n",
       "    .dataframe tbody tr th {\n",
       "        vertical-align: top;\n",
       "    }\n",
       "\n",
       "    .dataframe thead th {\n",
       "        text-align: right;\n",
       "    }\n",
       "</style>\n",
       "<table border=\"1\" class=\"dataframe\">\n",
       "  <thead>\n",
       "    <tr style=\"text-align: right;\">\n",
       "      <th></th>\n",
       "      <th>movieId</th>\n",
       "    </tr>\n",
       "  </thead>\n",
       "  <tbody>\n",
       "    <tr>\n",
       "      <th>count</th>\n",
       "      <td>58098.000000</td>\n",
       "    </tr>\n",
       "    <tr>\n",
       "      <th>mean</th>\n",
       "      <td>111919.516197</td>\n",
       "    </tr>\n",
       "    <tr>\n",
       "      <th>std</th>\n",
       "      <td>59862.660956</td>\n",
       "    </tr>\n",
       "    <tr>\n",
       "      <th>min</th>\n",
       "      <td>1.000000</td>\n",
       "    </tr>\n",
       "    <tr>\n",
       "      <th>25%</th>\n",
       "      <td>72437.750000</td>\n",
       "    </tr>\n",
       "    <tr>\n",
       "      <th>50%</th>\n",
       "      <td>126549.000000</td>\n",
       "    </tr>\n",
       "    <tr>\n",
       "      <th>75%</th>\n",
       "      <td>161449.500000</td>\n",
       "    </tr>\n",
       "    <tr>\n",
       "      <th>max</th>\n",
       "      <td>193886.000000</td>\n",
       "    </tr>\n",
       "  </tbody>\n",
       "</table>\n",
       "</div>"
      ],
      "text/plain": [
       "             movieId\n",
       "count   58098.000000\n",
       "mean   111919.516197\n",
       "std     59862.660956\n",
       "min         1.000000\n",
       "25%     72437.750000\n",
       "50%    126549.000000\n",
       "75%    161449.500000\n",
       "max    193886.000000"
      ]
     },
     "execution_count": 101,
     "metadata": {},
     "output_type": "execute_result"
    }
   ],
   "source": [
    "movies.describe()"
   ]
  },
  {
   "cell_type": "code",
   "execution_count": 102,
   "metadata": {},
   "outputs": [],
   "source": [
    "movies.loc[:, 'title_no_year'] = movies['title'].apply(lambda x: x.split(\"(\")[0].rstrip())"
   ]
  },
  {
   "attachments": {},
   "cell_type": "markdown",
   "metadata": {},
   "source": [
    "---"
   ]
  },
  {
   "attachments": {},
   "cell_type": "markdown",
   "metadata": {},
   "source": [
    "## 1.3) Recommender system"
   ]
  },
  {
   "attachments": {},
   "cell_type": "markdown",
   "metadata": {},
   "source": [
    "- The below answers are explained in file 1_3"
   ]
  },
  {
   "cell_type": "code",
   "execution_count": 103,
   "metadata": {},
   "outputs": [
    {
     "data": {
      "text/plain": [
       "53889"
      ]
     },
     "execution_count": 103,
     "metadata": {},
     "output_type": "execute_result"
    }
   ],
   "source": [
    "ratings['movieId'].nunique()"
   ]
  },
  {
   "cell_type": "code",
   "execution_count": 104,
   "metadata": {},
   "outputs": [
    {
     "data": {
      "text/plain": [
       "58098"
      ]
     },
     "execution_count": 104,
     "metadata": {},
     "output_type": "execute_result"
    }
   ],
   "source": [
    "movies['movieId'].nunique()"
   ]
  },
  {
   "cell_type": "code",
   "execution_count": 105,
   "metadata": {},
   "outputs": [
    {
     "name": "stdout",
     "output_type": "stream",
     "text": [
      "<class 'pandas.core.frame.DataFrame'>\n",
      "Int64Index: 27753444 entries, 0 to 27753443\n",
      "Data columns (total 4 columns):\n",
      " #   Column     Dtype  \n",
      "---  ------     -----  \n",
      " 0   userId     int64  \n",
      " 1   movieId    int64  \n",
      " 2   rating     float64\n",
      " 3   timestamp  int64  \n",
      "dtypes: float64(1), int64(3)\n",
      "memory usage: 1.0 GB\n"
     ]
    }
   ],
   "source": [
    "new_ratings = ratings[ratings['movieId'].isin(movies['movieId'])]\n",
    "new_ratings.info()"
   ]
  },
  {
   "cell_type": "code",
   "execution_count": 106,
   "metadata": {},
   "outputs": [
    {
     "data": {
      "text/plain": [
       "(58098, 283228)"
      ]
     },
     "execution_count": 106,
     "metadata": {},
     "output_type": "execute_result"
    }
   ],
   "source": [
    "# Convert movieId & userId to Categorical's to make them work with csr_matrix\n",
    "\n",
    "movieIds = pd.Categorical(new_ratings['movieId'], categories=movies['movieId'])\n",
    "userIds = pd.Categorical(new_ratings['userId'])\n",
    "\n",
    "# Create the csr matrix\n",
    "matrix = csr_matrix((new_ratings['rating'], (movieIds.codes, userIds.codes)))\n",
    "\n",
    "matrix.shape"
   ]
  },
  {
   "cell_type": "code",
   "execution_count": 107,
   "metadata": {},
   "outputs": [
    {
     "data": {
      "text/html": [
       "<style>#sk-container-id-5 {color: black;background-color: white;}#sk-container-id-5 pre{padding: 0;}#sk-container-id-5 div.sk-toggleable {background-color: white;}#sk-container-id-5 label.sk-toggleable__label {cursor: pointer;display: block;width: 100%;margin-bottom: 0;padding: 0.3em;box-sizing: border-box;text-align: center;}#sk-container-id-5 label.sk-toggleable__label-arrow:before {content: \"▸\";float: left;margin-right: 0.25em;color: #696969;}#sk-container-id-5 label.sk-toggleable__label-arrow:hover:before {color: black;}#sk-container-id-5 div.sk-estimator:hover label.sk-toggleable__label-arrow:before {color: black;}#sk-container-id-5 div.sk-toggleable__content {max-height: 0;max-width: 0;overflow: hidden;text-align: left;background-color: #f0f8ff;}#sk-container-id-5 div.sk-toggleable__content pre {margin: 0.2em;color: black;border-radius: 0.25em;background-color: #f0f8ff;}#sk-container-id-5 input.sk-toggleable__control:checked~div.sk-toggleable__content {max-height: 200px;max-width: 100%;overflow: auto;}#sk-container-id-5 input.sk-toggleable__control:checked~label.sk-toggleable__label-arrow:before {content: \"▾\";}#sk-container-id-5 div.sk-estimator input.sk-toggleable__control:checked~label.sk-toggleable__label {background-color: #d4ebff;}#sk-container-id-5 div.sk-label input.sk-toggleable__control:checked~label.sk-toggleable__label {background-color: #d4ebff;}#sk-container-id-5 input.sk-hidden--visually {border: 0;clip: rect(1px 1px 1px 1px);clip: rect(1px, 1px, 1px, 1px);height: 1px;margin: -1px;overflow: hidden;padding: 0;position: absolute;width: 1px;}#sk-container-id-5 div.sk-estimator {font-family: monospace;background-color: #f0f8ff;border: 1px dotted black;border-radius: 0.25em;box-sizing: border-box;margin-bottom: 0.5em;}#sk-container-id-5 div.sk-estimator:hover {background-color: #d4ebff;}#sk-container-id-5 div.sk-parallel-item::after {content: \"\";width: 100%;border-bottom: 1px solid gray;flex-grow: 1;}#sk-container-id-5 div.sk-label:hover label.sk-toggleable__label {background-color: #d4ebff;}#sk-container-id-5 div.sk-serial::before {content: \"\";position: absolute;border-left: 1px solid gray;box-sizing: border-box;top: 0;bottom: 0;left: 50%;z-index: 0;}#sk-container-id-5 div.sk-serial {display: flex;flex-direction: column;align-items: center;background-color: white;padding-right: 0.2em;padding-left: 0.2em;position: relative;}#sk-container-id-5 div.sk-item {position: relative;z-index: 1;}#sk-container-id-5 div.sk-parallel {display: flex;align-items: stretch;justify-content: center;background-color: white;position: relative;}#sk-container-id-5 div.sk-item::before, #sk-container-id-5 div.sk-parallel-item::before {content: \"\";position: absolute;border-left: 1px solid gray;box-sizing: border-box;top: 0;bottom: 0;left: 50%;z-index: -1;}#sk-container-id-5 div.sk-parallel-item {display: flex;flex-direction: column;z-index: 1;position: relative;background-color: white;}#sk-container-id-5 div.sk-parallel-item:first-child::after {align-self: flex-end;width: 50%;}#sk-container-id-5 div.sk-parallel-item:last-child::after {align-self: flex-start;width: 50%;}#sk-container-id-5 div.sk-parallel-item:only-child::after {width: 0;}#sk-container-id-5 div.sk-dashed-wrapped {border: 1px dashed gray;margin: 0 0.4em 0.5em 0.4em;box-sizing: border-box;padding-bottom: 0.4em;background-color: white;}#sk-container-id-5 div.sk-label label {font-family: monospace;font-weight: bold;display: inline-block;line-height: 1.2em;}#sk-container-id-5 div.sk-label-container {text-align: center;}#sk-container-id-5 div.sk-container {/* jupyter's `normalize.less` sets `[hidden] { display: none; }` but bootstrap.min.css set `[hidden] { display: none !important; }` so we also need the `!important` here to be able to override the default hidden behavior on the sphinx rendered scikit-learn.org. See: https://github.com/scikit-learn/scikit-learn/issues/21755 */display: inline-block !important;position: relative;}#sk-container-id-5 div.sk-text-repr-fallback {display: none;}</style><div id=\"sk-container-id-5\" class=\"sk-top-container\"><div class=\"sk-text-repr-fallback\"><pre>NearestNeighbors(algorithm=&#x27;brute&#x27;, metric=&#x27;cosine&#x27;, n_neighbors=10)</pre><b>In a Jupyter environment, please rerun this cell to show the HTML representation or trust the notebook. <br />On GitHub, the HTML representation is unable to render, please try loading this page with nbviewer.org.</b></div><div class=\"sk-container\" hidden><div class=\"sk-item\"><div class=\"sk-estimator sk-toggleable\"><input class=\"sk-toggleable__control sk-hidden--visually\" id=\"sk-estimator-id-5\" type=\"checkbox\" checked><label for=\"sk-estimator-id-5\" class=\"sk-toggleable__label sk-toggleable__label-arrow\">NearestNeighbors</label><div class=\"sk-toggleable__content\"><pre>NearestNeighbors(algorithm=&#x27;brute&#x27;, metric=&#x27;cosine&#x27;, n_neighbors=10)</pre></div></div></div></div></div>"
      ],
      "text/plain": [
       "NearestNeighbors(algorithm='brute', metric='cosine', n_neighbors=10)"
      ]
     },
     "execution_count": 107,
     "metadata": {},
     "output_type": "execute_result"
    }
   ],
   "source": [
    "model_nearest_neighbor = NearestNeighbors(metric='cosine', algorithm='brute', n_neighbors=10)\n",
    "model_nearest_neighbor.fit(matrix)"
   ]
  },
  {
   "cell_type": "code",
   "execution_count": 108,
   "metadata": {},
   "outputs": [
    {
     "data": {
      "text/html": [
       "<div>\n",
       "<style scoped>\n",
       "    .dataframe tbody tr th:only-of-type {\n",
       "        vertical-align: middle;\n",
       "    }\n",
       "\n",
       "    .dataframe tbody tr th {\n",
       "        vertical-align: top;\n",
       "    }\n",
       "\n",
       "    .dataframe thead th {\n",
       "        text-align: right;\n",
       "    }\n",
       "</style>\n",
       "<table border=\"1\" class=\"dataframe\">\n",
       "  <thead>\n",
       "    <tr style=\"text-align: right;\">\n",
       "      <th></th>\n",
       "      <th>movieId</th>\n",
       "      <th>title</th>\n",
       "      <th>genres</th>\n",
       "      <th>year</th>\n",
       "      <th>title_no_year</th>\n",
       "    </tr>\n",
       "  </thead>\n",
       "  <tbody>\n",
       "    <tr>\n",
       "      <th>21519</th>\n",
       "      <td>103596</td>\n",
       "      <td>Sharknado (2013)</td>\n",
       "      <td>Sci-Fi</td>\n",
       "      <td>2013</td>\n",
       "      <td>Sharknado</td>\n",
       "    </tr>\n",
       "  </tbody>\n",
       "</table>\n",
       "</div>"
      ],
      "text/plain": [
       "       movieId             title  genres  year title_no_year\n",
       "21519   103596  Sharknado (2013)  Sci-Fi  2013     Sharknado"
      ]
     },
     "execution_count": 108,
     "metadata": {},
     "output_type": "execute_result"
    }
   ],
   "source": [
    "movies[movies['title'] == 'Sharknado (2013)']"
   ]
  },
  {
   "cell_type": "code",
   "execution_count": 109,
   "metadata": {},
   "outputs": [
    {
     "data": {
      "text/plain": [
       "103596"
      ]
     },
     "execution_count": 109,
     "metadata": {},
     "output_type": "execute_result"
    }
   ],
   "source": [
    "movies[movies['title'] == 'Sharknado (2013)']['movieId'].values[0]"
   ]
  },
  {
   "cell_type": "code",
   "execution_count": 110,
   "metadata": {},
   "outputs": [
    {
     "data": {
      "text/html": [
       "<div>\n",
       "<style scoped>\n",
       "    .dataframe tbody tr th:only-of-type {\n",
       "        vertical-align: middle;\n",
       "    }\n",
       "\n",
       "    .dataframe tbody tr th {\n",
       "        vertical-align: top;\n",
       "    }\n",
       "\n",
       "    .dataframe thead th {\n",
       "        text-align: right;\n",
       "    }\n",
       "</style>\n",
       "<table border=\"1\" class=\"dataframe\">\n",
       "  <thead>\n",
       "    <tr style=\"text-align: right;\">\n",
       "      <th></th>\n",
       "      <th>userId</th>\n",
       "      <th>movieId</th>\n",
       "      <th>rating</th>\n",
       "      <th>timestamp</th>\n",
       "    </tr>\n",
       "  </thead>\n",
       "  <tbody>\n",
       "    <tr>\n",
       "      <th>13221</th>\n",
       "      <td>134</td>\n",
       "      <td>103596</td>\n",
       "      <td>2.0</td>\n",
       "      <td>1424660688</td>\n",
       "    </tr>\n",
       "    <tr>\n",
       "      <th>107849</th>\n",
       "      <td>1089</td>\n",
       "      <td>103596</td>\n",
       "      <td>2.5</td>\n",
       "      <td>1377528529</td>\n",
       "    </tr>\n",
       "    <tr>\n",
       "      <th>240325</th>\n",
       "      <td>2329</td>\n",
       "      <td>103596</td>\n",
       "      <td>2.0</td>\n",
       "      <td>1421016581</td>\n",
       "    </tr>\n",
       "    <tr>\n",
       "      <th>351780</th>\n",
       "      <td>3583</td>\n",
       "      <td>103596</td>\n",
       "      <td>3.0</td>\n",
       "      <td>1468361712</td>\n",
       "    </tr>\n",
       "    <tr>\n",
       "      <th>411651</th>\n",
       "      <td>4203</td>\n",
       "      <td>103596</td>\n",
       "      <td>1.5</td>\n",
       "      <td>1511044668</td>\n",
       "    </tr>\n",
       "    <tr>\n",
       "      <th>...</th>\n",
       "      <td>...</td>\n",
       "      <td>...</td>\n",
       "      <td>...</td>\n",
       "      <td>...</td>\n",
       "    </tr>\n",
       "    <tr>\n",
       "      <th>27267975</th>\n",
       "      <td>278225</td>\n",
       "      <td>103596</td>\n",
       "      <td>2.5</td>\n",
       "      <td>1442375893</td>\n",
       "    </tr>\n",
       "    <tr>\n",
       "      <th>27300077</th>\n",
       "      <td>278554</td>\n",
       "      <td>103596</td>\n",
       "      <td>0.5</td>\n",
       "      <td>1502763424</td>\n",
       "    </tr>\n",
       "    <tr>\n",
       "      <th>27362890</th>\n",
       "      <td>279173</td>\n",
       "      <td>103596</td>\n",
       "      <td>1.0</td>\n",
       "      <td>1501596274</td>\n",
       "    </tr>\n",
       "    <tr>\n",
       "      <th>27625875</th>\n",
       "      <td>281869</td>\n",
       "      <td>103596</td>\n",
       "      <td>0.5</td>\n",
       "      <td>1423035948</td>\n",
       "    </tr>\n",
       "    <tr>\n",
       "      <th>27708757</th>\n",
       "      <td>282732</td>\n",
       "      <td>103596</td>\n",
       "      <td>3.0</td>\n",
       "      <td>1504376173</td>\n",
       "    </tr>\n",
       "  </tbody>\n",
       "</table>\n",
       "<p>400 rows × 4 columns</p>\n",
       "</div>"
      ],
      "text/plain": [
       "          userId  movieId  rating   timestamp\n",
       "13221        134   103596     2.0  1424660688\n",
       "107849      1089   103596     2.5  1377528529\n",
       "240325      2329   103596     2.0  1421016581\n",
       "351780      3583   103596     3.0  1468361712\n",
       "411651      4203   103596     1.5  1511044668\n",
       "...          ...      ...     ...         ...\n",
       "27267975  278225   103596     2.5  1442375893\n",
       "27300077  278554   103596     0.5  1502763424\n",
       "27362890  279173   103596     1.0  1501596274\n",
       "27625875  281869   103596     0.5  1423035948\n",
       "27708757  282732   103596     3.0  1504376173\n",
       "\n",
       "[400 rows x 4 columns]"
      ]
     },
     "execution_count": 110,
     "metadata": {},
     "output_type": "execute_result"
    }
   ],
   "source": [
    "ratings[ratings['movieId'] == 103596]"
   ]
  },
  {
   "cell_type": "code",
   "execution_count": 111,
   "metadata": {},
   "outputs": [
    {
     "data": {
      "text/plain": [
       "('Sharknado (2013)', 90, 21519)"
      ]
     },
     "execution_count": 111,
     "metadata": {},
     "output_type": "execute_result"
    }
   ],
   "source": [
    "process.extractOne('sharknado', movies['title'])"
   ]
  },
  {
   "cell_type": "code",
   "execution_count": 112,
   "metadata": {},
   "outputs": [
    {
     "data": {
      "text/plain": [
       "21519"
      ]
     },
     "execution_count": 112,
     "metadata": {},
     "output_type": "execute_result"
    }
   ],
   "source": [
    "process.extractOne('sharknado', movies['title'])[2]"
   ]
  },
  {
   "cell_type": "code",
   "execution_count": 113,
   "metadata": {},
   "outputs": [],
   "source": [
    "def recommender_system(movie_name, number_recommendations):\n",
    "    title = process.extractOne(movie_name, movies['title'])[0]\n",
    "    movie_id = process.extractOne(movie_name, movies['title'])[1]\n",
    "    movie_idx = process.extractOne(movie_name, movies['title'])[2]\n",
    "    id = movies[movies['title'] == title]['movieId'].values[0]\n",
    "    print('Movie Selected: ', movies['title'][movie_idx], 'Id: ',movie_id)\n",
    "    print('Searching for recommendation....')\n",
    "\n",
    "    \n",
    "    distances, indices = model_nearest_neighbor.kneighbors(matrix[movie_idx], n_neighbors=number_recommendations)\n",
    "    \n",
    "    indice = indices[0]\n",
    "    \n",
    "    selected = indice[indice != movie_idx]\n",
    "\n",
    "    selected_movies = movies.iloc[selected]\n",
    "    print(indices)\n",
    "    return selected_movies"
   ]
  },
  {
   "cell_type": "code",
   "execution_count": 114,
   "metadata": {},
   "outputs": [
    {
     "name": "stdout",
     "output_type": "stream",
     "text": [
      "Movie Selected:  Sharknado (2013) Id:  90\n",
      "Searching for recommendation....\n",
      "[[21519 24658 32886 43775 34324 23884 19722 26342 20988 15787]]\n"
     ]
    },
    {
     "data": {
      "text/html": [
       "<div>\n",
       "<style scoped>\n",
       "    .dataframe tbody tr th:only-of-type {\n",
       "        vertical-align: middle;\n",
       "    }\n",
       "\n",
       "    .dataframe tbody tr th {\n",
       "        vertical-align: top;\n",
       "    }\n",
       "\n",
       "    .dataframe thead th {\n",
       "        text-align: right;\n",
       "    }\n",
       "</style>\n",
       "<table border=\"1\" class=\"dataframe\">\n",
       "  <thead>\n",
       "    <tr style=\"text-align: right;\">\n",
       "      <th></th>\n",
       "      <th>movieId</th>\n",
       "      <th>title</th>\n",
       "      <th>genres</th>\n",
       "      <th>year</th>\n",
       "      <th>title_no_year</th>\n",
       "    </tr>\n",
       "  </thead>\n",
       "  <tbody>\n",
       "    <tr>\n",
       "      <th>24658</th>\n",
       "      <td>114242</td>\n",
       "      <td>Sharknado 2: The Second One (2014)</td>\n",
       "      <td>Horror|Sci-Fi|Thriller</td>\n",
       "      <td>2014</td>\n",
       "      <td>Sharknado 2: The Second One</td>\n",
       "    </tr>\n",
       "    <tr>\n",
       "      <th>32886</th>\n",
       "      <td>136305</td>\n",
       "      <td>Sharknado 3: Oh Hell No! (2015)</td>\n",
       "      <td>Horror|Sci-Fi</td>\n",
       "      <td>2015</td>\n",
       "      <td>Sharknado 3: Oh Hell No!</td>\n",
       "    </tr>\n",
       "    <tr>\n",
       "      <th>43775</th>\n",
       "      <td>161918</td>\n",
       "      <td>Sharknado 4: The 4th Awakens (2016)</td>\n",
       "      <td>Action|Adventure|Horror|Sci-Fi</td>\n",
       "      <td>2016</td>\n",
       "      <td>Sharknado 4: The 4th Awakens</td>\n",
       "    </tr>\n",
       "    <tr>\n",
       "      <th>34324</th>\n",
       "      <td>139759</td>\n",
       "      <td>Lavalantula (2015)</td>\n",
       "      <td>Horror|Sci-Fi</td>\n",
       "      <td>2015</td>\n",
       "      <td>Lavalantula</td>\n",
       "    </tr>\n",
       "    <tr>\n",
       "      <th>23884</th>\n",
       "      <td>111663</td>\n",
       "      <td>Zombeavers (2014)</td>\n",
       "      <td>Action|Comedy|Horror</td>\n",
       "      <td>2014</td>\n",
       "      <td>Zombeavers</td>\n",
       "    </tr>\n",
       "    <tr>\n",
       "      <th>19722</th>\n",
       "      <td>96923</td>\n",
       "      <td>2-Headed Shark Attack (2012)</td>\n",
       "      <td>Comedy|Horror</td>\n",
       "      <td>2012</td>\n",
       "      <td>2-Headed Shark Attack</td>\n",
       "    </tr>\n",
       "    <tr>\n",
       "      <th>26342</th>\n",
       "      <td>119705</td>\n",
       "      <td>Piranhaconda (2012)</td>\n",
       "      <td>Horror|Sci-Fi</td>\n",
       "      <td>2012</td>\n",
       "      <td>Piranhaconda</td>\n",
       "    </tr>\n",
       "    <tr>\n",
       "      <th>20988</th>\n",
       "      <td>101739</td>\n",
       "      <td>Evil Dead (2013)</td>\n",
       "      <td>Horror</td>\n",
       "      <td>2013</td>\n",
       "      <td>Evil Dead</td>\n",
       "    </tr>\n",
       "    <tr>\n",
       "      <th>15787</th>\n",
       "      <td>79879</td>\n",
       "      <td>Piranha (Piranha 3D) (2010)</td>\n",
       "      <td>Action|Horror|Thriller</td>\n",
       "      <td>2010</td>\n",
       "      <td>Piranha</td>\n",
       "    </tr>\n",
       "  </tbody>\n",
       "</table>\n",
       "</div>"
      ],
      "text/plain": [
       "       movieId                                title  \\\n",
       "24658   114242   Sharknado 2: The Second One (2014)   \n",
       "32886   136305      Sharknado 3: Oh Hell No! (2015)   \n",
       "43775   161918  Sharknado 4: The 4th Awakens (2016)   \n",
       "34324   139759                   Lavalantula (2015)   \n",
       "23884   111663                    Zombeavers (2014)   \n",
       "19722    96923         2-Headed Shark Attack (2012)   \n",
       "26342   119705                  Piranhaconda (2012)   \n",
       "20988   101739                     Evil Dead (2013)   \n",
       "15787    79879          Piranha (Piranha 3D) (2010)   \n",
       "\n",
       "                               genres  year                 title_no_year  \n",
       "24658          Horror|Sci-Fi|Thriller  2014   Sharknado 2: The Second One  \n",
       "32886                   Horror|Sci-Fi  2015      Sharknado 3: Oh Hell No!  \n",
       "43775  Action|Adventure|Horror|Sci-Fi  2016  Sharknado 4: The 4th Awakens  \n",
       "34324                   Horror|Sci-Fi  2015                   Lavalantula  \n",
       "23884            Action|Comedy|Horror  2014                    Zombeavers  \n",
       "19722                   Comedy|Horror  2012         2-Headed Shark Attack  \n",
       "26342                   Horror|Sci-Fi  2012                  Piranhaconda  \n",
       "20988                          Horror  2013                     Evil Dead  \n",
       "15787          Action|Horror|Thriller  2010                       Piranha  "
      ]
     },
     "execution_count": 114,
     "metadata": {},
     "output_type": "execute_result"
    }
   ],
   "source": [
    "recommendations = recommender_system('sharknado',10)\n",
    "recommendations"
   ]
  },
  {
   "attachments": {},
   "cell_type": "markdown",
   "metadata": {},
   "source": [
    "## 1.3a&b How my system works AND how KNN works\n",
    "\n",
    "- My goal in this exercise is to recommend movies to a user based on inputed movie for toy story.\n",
    "\n",
    "- First i used fuzzywuzzy to return a close match to the movie inputed by the user. This reduces the potential for \n",
    "errors since you would need a perfect match for movie you are handling in the dataframe.\n",
    "\n",
    "- I get a close enough string as a movie from fuzzywuzzy.\n",
    "\n",
    "- I have cleaned the ratings the ratings dataset to only contain movieIds that are present in the movies dataframe.\n",
    "\n",
    "- I create a csr matrix using pandas Categorical and for ratings specify to include even rows in the movies dataframe which might otherwie not be included in the matrix if they do not have any ratings since a csr matrix only \n",
    "    stores non-zero values.\n",
    "\n",
    "- Eventually initialise my nearest neighbor model with the from scipy, then i pass in the metric \"cosine\" which  specifies the distance metric used to measure the similarity between two data points. In this case, the cosine similarity metric is used, which measures the cosine of the angle between two vectors. A vector in recommender system would each row in the matrix corresponding each movie.  The 'brute' force algorithm is used, which computes the distances between all pairs of points in the dataset and n_neighbors=10 specifies the number of nearest neighbors to be returned for each data point.\n",
    "\n",
    "- Finally the indices returned are used to return a dataframe containing just the movies recommended to the user.\n",
    "\n",
    "#### How KNN works here\n",
    "Source: https://www.ibm.com/se-en/topics/knn\n",
    "- The k-nearest neighbors algorithm, also known as KNN or k-NN, is a non-parametric, supervised learning classifier, which uses proximity to make classifications or predictions about the grouping of an individual data point. While it can be used for either regression or classification problems, it is typically used as a classification algorithm, working off the assumption that similar points can be found near one another. the goal of the k-nearest neighbor algorithm is to identify the nearest neighbors of a given query point, so that we can assign a class label to that point. In order to do this, KNN has a few requirements\n",
    "\n",
    "<img src=\"../assets/cos.webp\" alt=\"description of the image\" width=\"300\" height=\"200\">\n",
    "\n",
    "A good example is the image above. Joao Felix and Messi are similar, but Jaoa has fewer years of play and doesnt have as many ratings but is  very similar to messi as opposed\n",
    "to Cristiano who is quite different but simailar in amout of ratings as Messi. A euclidean distance would have picked Messi and Ronaldo where a cosine would pick Joao as similar to Messi.\n",
    "\n",
    "Cosine similarity measures the similarity between two vectors or data points in multidimensional space. It is measured by the cosine of the angle between two vectors or data points. It determines whether these two vectors are pointing in the same direction. It is often used to measure similarity in text analysis.\n",
    "\n",
    "When KNN makes inference about a movie, KNN will calculate the “distance” between the target movie and every other movie in its database, then it ranks its distances and returns the top K nearest neighbor movies as the most similar movie recommendations.\n",
    "\n",
    "\n",
    "- **[cosine similarity](https://www.kipi.bi/post/basics-to-knn-algorithm)**\n",
    "- **[recommender system towardsdatascience](https://towardsdatascience.com/prototyping-a-recommender-system-step-by-step-part-1-knn-item-based-collaborative-filtering-637969614ea)**\n",
    "\n",
    "*the below article is very detailed as it looks into the types of recommdation systems, and eventually goes through a similar recommendation system as this but for books*\n",
    "- **[recommender system medium.com](https://aman-makwana101932.medium.com/understanding-recommendation-system-and-knn-with-project-book-recommendation-system-c648e47ff4f6)**\n",
    "\n",
    "\n",
    "- **Also used chatGPT**\n",
    "\n",
    ">"
   ]
  },
  {
   "cell_type": "markdown",
   "metadata": {},
   "source": []
  }
 ],
 "metadata": {
  "kernelspec": {
   "display_name": "movie_recommendation--Wssc1bR",
   "language": "python",
   "name": "python3"
  },
  "language_info": {
   "codemirror_mode": {
    "name": "ipython",
    "version": 3
   },
   "file_extension": ".py",
   "mimetype": "text/x-python",
   "name": "python",
   "nbconvert_exporter": "python",
   "pygments_lexer": "ipython3",
   "version": "3.9.13"
  },
  "orig_nbformat": 4
 },
 "nbformat": 4,
 "nbformat_minor": 2
}
